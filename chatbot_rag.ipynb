{
 "cells": [
  {
   "cell_type": "code",
   "execution_count": null,
   "id": "bcfb20d0-015c-44a4-8e49-54c790acbb68",
   "metadata": {
    "tags": []
   },
   "outputs": [],
   "source": [
    "! git clone https://www.modelscope.cn/ZhipuAI/chatglm3-6b.git"
   ]
  },
  {
   "cell_type": "code",
   "execution_count": null,
   "id": "18bf2424-9b90-44a6-afc0-08505f5f728f",
   "metadata": {
    "tags": []
   },
   "outputs": [],
   "source": [
    "! git clone https://www.modelscope.cn/AI-ModelScope/bge-base-zh-v1.5.git"
   ]
  },
  {
   "cell_type": "code",
   "execution_count": 5,
   "id": "a8993aa9-e688-4d9b-a9d0-d40eeb246f96",
   "metadata": {
    "ExecutionIndicator": {
     "show": true
    },
    "execution": {
     "iopub.execute_input": "2024-05-27T07:06:24.272491Z",
     "iopub.status.busy": "2024-05-27T07:06:24.272141Z",
     "iopub.status.idle": "2024-05-27T07:57:27.821837Z",
     "shell.execute_reply": "2024-05-27T07:57:27.821316Z",
     "shell.execute_reply.started": "2024-05-27T07:06:24.272472Z"
    },
    "tags": []
   },
   "outputs": [
    {
     "name": "stderr",
     "output_type": "stream",
     "text": [
      "2024-05-27 15:06:24,274 - sentence_transformers.SentenceTransformer - INFO - Load pretrained SentenceTransformer: ./bge-base-zh-v1.5\n"
     ]
    },
    {
     "name": "stdout",
     "output_type": "stream",
     "text": [
      "create retrieval plugin instance...\n",
      "plugin parameters:  {'embedding_model': './bge-base-zh-v1.5', 'input_path': './mental_health.txt'}\n"
     ]
    },
    {
     "name": "stderr",
     "output_type": "stream",
     "text": [
      "2024-05-27 15:06:24,502 - sentence_transformers.SentenceTransformer - INFO - Use pytorch device_name: cpu\n",
      "2024-05-27 15:06:25,308 - root - INFO - The parsing for the uploaded files is finished.\n",
      "2024-05-27 15:06:25,402 - root - INFO - The format of parsed documents is transferred.\n"
     ]
    },
    {
     "data": {
      "application/vnd.jupyter.widget-view+json": {
       "model_id": "9d39f5aeff8d4069ad393f71309e0a98",
       "version_major": 2,
       "version_minor": 0
      },
      "text/plain": [
       "Batches:   0%|          | 0/319 [00:00<?, ?it/s]"
      ]
     },
     "metadata": {},
     "output_type": "display_data"
    },
    {
     "name": "stderr",
     "output_type": "stream",
     "text": [
      "2024-05-27 15:52:04,420 - root - INFO - The retriever is successfully built.\n",
      "2024-05-27 15:52:04,457 - transformers_modules.chatglm3_6b.tokenization_chatglm - WARNING - Setting eos_token is not supported, use the default one.\n",
      "2024-05-27 15:52:04,458 - transformers_modules.chatglm3_6b.tokenization_chatglm - WARNING - Setting pad_token is not supported, use the default one.\n",
      "2024-05-27 15:52:04,458 - transformers_modules.chatglm3_6b.tokenization_chatglm - WARNING - Setting unk_token is not supported, use the default one.\n",
      "2024-05-27 15:52:04 [INFO] Applying Weight Only Quantization.\n"
     ]
    },
    {
     "name": "stdout",
     "output_type": "stream",
     "text": [
      "Loading model ./chatglm3-6b\n"
     ]
    },
    {
     "data": {
      "application/vnd.jupyter.widget-view+json": {
       "model_id": "c2264ec147d44333a550bcb9379471e3",
       "version_major": 2,
       "version_minor": 0
      },
      "text/plain": [
       "Loading checkpoint shards:   0%|          | 0/7 [00:00<?, ?it/s]"
      ]
     },
     "metadata": {},
     "output_type": "display_data"
    },
    {
     "name": "stderr",
     "output_type": "stream",
     "text": [
      "2024-05-27 15:52:17 [INFO] Start auto tuning.\n",
      "2024-05-27 15:52:17 [INFO] Quantize model without tuning!\n",
      "2024-05-27 15:52:17 [INFO] Quantize the model with default configuration without evaluating the model.                To perform the tuning process, please either provide an eval_func or provide an                    eval_dataloader an eval_metric.\n",
      "2024-05-27 15:52:17 [INFO] Adaptor has 5 recipes.\n",
      "2024-05-27 15:52:17 [INFO] 0 recipes specified by user.\n",
      "2024-05-27 15:52:17 [INFO] 3 recipes require future tuning.\n",
      "2024-05-27 15:52:17 [INFO] *** Initialize auto tuning\n",
      "2024-05-27 15:52:17 [INFO] {\n",
      "2024-05-27 15:52:17 [INFO]     'PostTrainingQuantConfig': {\n",
      "2024-05-27 15:52:17 [INFO]         'AccuracyCriterion': {\n",
      "2024-05-27 15:52:17 [INFO]             'criterion': 'relative',\n",
      "2024-05-27 15:52:17 [INFO]             'higher_is_better': True,\n",
      "2024-05-27 15:52:17 [INFO]             'tolerable_loss': 0.01,\n",
      "2024-05-27 15:52:17 [INFO]             'absolute': None,\n",
      "2024-05-27 15:52:17 [INFO]             'keys': <bound method AccuracyCriterion.keys of <neural_compressor.config.AccuracyCriterion object at 0x7fc1bf26d570>>,\n",
      "2024-05-27 15:52:17 [INFO]             'relative': 0.01\n",
      "2024-05-27 15:52:17 [INFO]         },\n",
      "2024-05-27 15:52:17 [INFO]         'approach': 'post_training_weight_only',\n",
      "2024-05-27 15:52:17 [INFO]         'backend': 'default',\n",
      "2024-05-27 15:52:17 [INFO]         'calibration_sampling_size': [\n",
      "2024-05-27 15:52:17 [INFO]             100\n",
      "2024-05-27 15:52:17 [INFO]         ],\n",
      "2024-05-27 15:52:17 [INFO]         'device': 'cpu',\n",
      "2024-05-27 15:52:17 [INFO]         'diagnosis': False,\n",
      "2024-05-27 15:52:17 [INFO]         'domain': 'auto',\n",
      "2024-05-27 15:52:17 [INFO]         'example_inputs': 'Not printed here due to large size tensors...',\n",
      "2024-05-27 15:52:17 [INFO]         'excluded_precisions': [\n",
      "2024-05-27 15:52:17 [INFO]         ],\n",
      "2024-05-27 15:52:17 [INFO]         'framework': 'pytorch_fx',\n",
      "2024-05-27 15:52:17 [INFO]         'inputs': [\n",
      "2024-05-27 15:52:17 [INFO]         ],\n",
      "2024-05-27 15:52:17 [INFO]         'model_name': '',\n",
      "2024-05-27 15:52:17 [INFO]         'ni_workload_name': 'quantization',\n",
      "2024-05-27 15:52:17 [INFO]         'op_name_dict': {\n",
      "2024-05-27 15:52:17 [INFO]             '.*lm_head': {\n",
      "2024-05-27 15:52:17 [INFO]                 'weight': {\n",
      "2024-05-27 15:52:17 [INFO]                     'dtype': [\n",
      "2024-05-27 15:52:17 [INFO]                         'fp32'\n",
      "2024-05-27 15:52:17 [INFO]                     ]\n",
      "2024-05-27 15:52:17 [INFO]                 }\n",
      "2024-05-27 15:52:17 [INFO]             },\n",
      "2024-05-27 15:52:17 [INFO]             '.*output_layer': {\n",
      "2024-05-27 15:52:17 [INFO]                 'weight': {\n",
      "2024-05-27 15:52:17 [INFO]                     'dtype': [\n",
      "2024-05-27 15:52:17 [INFO]                         'fp32'\n",
      "2024-05-27 15:52:17 [INFO]                     ]\n",
      "2024-05-27 15:52:17 [INFO]                 }\n",
      "2024-05-27 15:52:17 [INFO]             },\n",
      "2024-05-27 15:52:17 [INFO]             '.*embed_out': {\n",
      "2024-05-27 15:52:17 [INFO]                 'weight': {\n",
      "2024-05-27 15:52:17 [INFO]                     'dtype': [\n",
      "2024-05-27 15:52:17 [INFO]                         'fp32'\n",
      "2024-05-27 15:52:17 [INFO]                     ]\n",
      "2024-05-27 15:52:17 [INFO]                 }\n",
      "2024-05-27 15:52:17 [INFO]             }\n",
      "2024-05-27 15:52:17 [INFO]         },\n",
      "2024-05-27 15:52:17 [INFO]         'op_type_dict': {\n",
      "2024-05-27 15:52:17 [INFO]             '.*': {\n",
      "2024-05-27 15:52:17 [INFO]                 'weight': {\n",
      "2024-05-27 15:52:17 [INFO]                     'bits': [\n",
      "2024-05-27 15:52:17 [INFO]                         4\n",
      "2024-05-27 15:52:17 [INFO]                     ],\n",
      "2024-05-27 15:52:17 [INFO]                     'dtype': [\n",
      "2024-05-27 15:52:17 [INFO]                         'int4'\n",
      "2024-05-27 15:52:17 [INFO]                     ],\n",
      "2024-05-27 15:52:17 [INFO]                     'group_size': [\n",
      "2024-05-27 15:52:17 [INFO]                         32\n",
      "2024-05-27 15:52:17 [INFO]                     ],\n",
      "2024-05-27 15:52:17 [INFO]                     'scheme': [\n",
      "2024-05-27 15:52:17 [INFO]                         'sym'\n",
      "2024-05-27 15:52:17 [INFO]                     ],\n",
      "2024-05-27 15:52:17 [INFO]                     'algorithm': [\n",
      "2024-05-27 15:52:17 [INFO]                         'RTN'\n",
      "2024-05-27 15:52:17 [INFO]                     ]\n",
      "2024-05-27 15:52:17 [INFO]                 }\n",
      "2024-05-27 15:52:17 [INFO]             }\n",
      "2024-05-27 15:52:17 [INFO]         },\n",
      "2024-05-27 15:52:17 [INFO]         'outputs': [\n",
      "2024-05-27 15:52:17 [INFO]         ],\n",
      "2024-05-27 15:52:17 [INFO]         'quant_format': 'default',\n",
      "2024-05-27 15:52:17 [INFO]         'quant_level': 'auto',\n",
      "2024-05-27 15:52:17 [INFO]         'recipes': {\n",
      "2024-05-27 15:52:17 [INFO]             'smooth_quant': False,\n",
      "2024-05-27 15:52:17 [INFO]             'smooth_quant_args': {\n",
      "2024-05-27 15:52:17 [INFO]             },\n",
      "2024-05-27 15:52:17 [INFO]             'layer_wise_quant': False,\n",
      "2024-05-27 15:52:17 [INFO]             'layer_wise_quant_args': {\n",
      "2024-05-27 15:52:17 [INFO]             },\n",
      "2024-05-27 15:52:17 [INFO]             'fast_bias_correction': False,\n",
      "2024-05-27 15:52:17 [INFO]             'weight_correction': False,\n",
      "2024-05-27 15:52:17 [INFO]             'gemm_to_matmul': True,\n",
      "2024-05-27 15:52:17 [INFO]             'graph_optimization_level': None,\n",
      "2024-05-27 15:52:17 [INFO]             'first_conv_or_matmul_quantization': True,\n",
      "2024-05-27 15:52:17 [INFO]             'last_conv_or_matmul_quantization': True,\n",
      "2024-05-27 15:52:17 [INFO]             'pre_post_process_quantization': True,\n",
      "2024-05-27 15:52:17 [INFO]             'add_qdq_pair_to_weight': False,\n",
      "2024-05-27 15:52:17 [INFO]             'optypes_to_exclude_output_quant': [\n",
      "2024-05-27 15:52:17 [INFO]             ],\n",
      "2024-05-27 15:52:17 [INFO]             'dedicated_qdq_pair': False,\n",
      "2024-05-27 15:52:17 [INFO]             'rtn_args': {\n",
      "2024-05-27 15:52:17 [INFO]                 'enable_full_range': True,\n",
      "2024-05-27 15:52:17 [INFO]                 'enable_mse_search': False\n",
      "2024-05-27 15:52:17 [INFO]             },\n",
      "2024-05-27 15:52:17 [INFO]             'awq_args': {\n",
      "2024-05-27 15:52:17 [INFO]             },\n",
      "2024-05-27 15:52:17 [INFO]             'gptq_args': {\n",
      "2024-05-27 15:52:17 [INFO]             },\n",
      "2024-05-27 15:52:17 [INFO]             'teq_args': {\n",
      "2024-05-27 15:52:17 [INFO]             },\n",
      "2024-05-27 15:52:17 [INFO]             'autoround_args': {\n",
      "2024-05-27 15:52:17 [INFO]             }\n",
      "2024-05-27 15:52:17 [INFO]         },\n",
      "2024-05-27 15:52:17 [INFO]         'reduce_range': None,\n",
      "2024-05-27 15:52:17 [INFO]         'TuningCriterion': {\n",
      "2024-05-27 15:52:17 [INFO]             'max_trials': 100,\n",
      "2024-05-27 15:52:17 [INFO]             'objective': [\n",
      "2024-05-27 15:52:17 [INFO]                 'performance'\n",
      "2024-05-27 15:52:17 [INFO]             ],\n",
      "2024-05-27 15:52:17 [INFO]             'strategy': 'basic',\n",
      "2024-05-27 15:52:17 [INFO]             'strategy_kwargs': None,\n",
      "2024-05-27 15:52:17 [INFO]             'timeout': 0\n",
      "2024-05-27 15:52:17 [INFO]         },\n",
      "2024-05-27 15:52:17 [INFO]         'use_bf16': True\n",
      "2024-05-27 15:52:17 [INFO]     }\n",
      "2024-05-27 15:52:17 [INFO] }\n",
      "2024-05-27 15:52:17 [WARNING] [Strategy] Please install `mpi4py` correctly if using distributed tuning; otherwise, ignore this warning.\n",
      "2024-05-27 15:52:17 [INFO] Pass query framework capability elapsed time: 2.72 ms\n",
      "2024-05-27 15:52:17 [INFO] Do not evaluate the baseline and quantize the model with default configuration.\n",
      "2024-05-27 15:52:17 [INFO] Quantize the model with default config.\n",
      "2024-05-27 15:52:17 [INFO] All algorithms to do: {'RTN'}\n",
      "2024-05-27 15:52:17 [INFO] quantizing with the round-to-nearest algorithm\n",
      "2024-05-27 15:52:55 [INFO] |******Mixed Precision Statistics******|\n",
      "2024-05-27 15:52:55 [INFO] +---------+-------+-----------+--------+\n",
      "2024-05-27 15:52:55 [INFO] | Op Type | Total |  A32W4G32 |  FP32  |\n",
      "2024-05-27 15:52:55 [INFO] +---------+-------+-----------+--------+\n",
      "2024-05-27 15:52:55 [INFO] |  Linear |  113  |    112    |   1    |\n",
      "2024-05-27 15:52:55 [INFO] +---------+-------+-----------+--------+\n",
      "2024-05-27 15:52:55 [INFO] Pass quantize model elapsed time: 38061.0 ms\n",
      "2024-05-27 15:52:55 [INFO] Save tuning history to /mnt/workspace/nc_workspace/2024-05-27_14-52-32/./history.snapshot.\n",
      "2024-05-27 15:52:55 [INFO] [Strategy] Found the model meets accuracy requirements, ending the tuning process.\n",
      "2024-05-27 15:52:55 [INFO] Specified timeout or max trials is reached! Found a quantized model which meet accuracy goal. Exit.\n",
      "2024-05-27 15:52:55 [INFO] Save deploy yaml to /mnt/workspace/nc_workspace/2024-05-27_14-52-32/deploy.yaml\n",
      "2024-05-27 15:57:27 [INFO] WeightOnlyQuant done.\n",
      "2024-05-27 15:57:27,819 - root - INFO - Optimized Model loaded.\n"
     ]
    }
   ],
   "source": [
    "from intel_extension_for_transformers.neural_chat import PipelineConfig\n",
    "from intel_extension_for_transformers.neural_chat import build_chatbot\n",
    "from intel_extension_for_transformers.neural_chat import plugins\n",
    "from intel_extension_for_transformers.transformers import RtnConfig\n",
    "plugins.retrieval.enable=True\n",
    "plugins.retrieval.args['embedding_model'] = \"./bge-base-zh-v1.5\"\n",
    "plugins.retrieval.args[\"input_path\"]=\"./mental_health.txt\"\n",
    "config = PipelineConfig(model_name_or_path='./chatglm3-6b',\n",
    " plugins=plugins,\n",
    " optimization_config=RtnConfig(compute_dtype=\"int8\",\n",
    "weight_dtype=\"int4_fullrange\"))\n",
    "chatbot = build_chatbot(config)"
   ]
  },
  {
   "cell_type": "code",
   "execution_count": 6,
   "id": "e2f322d8-cc74-443e-9bc0-935593e46a5b",
   "metadata": {
    "ExecutionIndicator": {
     "show": true
    },
    "execution": {
     "iopub.execute_input": "2024-05-27T07:57:27.834725Z",
     "iopub.status.busy": "2024-05-27T07:57:27.834585Z",
     "iopub.status.idle": "2024-05-27T07:58:15.562054Z",
     "shell.execute_reply": "2024-05-27T07:58:15.561530Z",
     "shell.execute_reply.started": "2024-05-27T07:57:27.834708Z"
    },
    "tags": []
   },
   "outputs": [
    {
     "name": "stdout",
     "output_type": "stream",
     "text": [
      "首先，要确保自己有足够的时间来完成作业。为了避免拖延，可以制定一个时间表来分配时间，并设定一些小目标来激励自己。其次，可以通过运动、听音乐或与朋友聊天等方式来放松心情。这些活动可以帮助减轻压力，提高情绪。最后，不要忘记休息和睡眠。充足的休息可以帮助恢复体力和精神，让你在学习和生活中更加高效。\n"
     ]
    }
   ],
   "source": [
    "plugins.retrieval.enable=False # disable retrieval\n",
    "response = chatbot.predict(query=\"最近我的学业压力很大，作业做不完，有什么办法可以放松下来？\")\n",
    "print(response)"
   ]
  },
  {
   "cell_type": "code",
   "execution_count": 7,
   "id": "94f4fce5-1deb-49b6-adb1-db8cb9eed8ae",
   "metadata": {
    "ExecutionIndicator": {
     "show": true
    },
    "execution": {
     "iopub.execute_input": "2024-05-27T07:58:15.563421Z",
     "iopub.status.busy": "2024-05-27T07:58:15.563085Z",
     "iopub.status.idle": "2024-05-27T08:00:19.139449Z",
     "shell.execute_reply": "2024-05-27T08:00:19.138914Z",
     "shell.execute_reply.started": "2024-05-27T07:58:15.563404Z"
    },
    "tags": []
   },
   "outputs": [
    {
     "data": {
      "application/vnd.jupyter.widget-view+json": {
       "model_id": "dca6b48704bb486aa1374ab91628be77",
       "version_major": 2,
       "version_minor": 0
      },
      "text/plain": [
       "Batches:   0%|          | 0/1 [00:00<?, ?it/s]"
      ]
     },
     "metadata": {},
     "output_type": "display_data"
    },
    {
     "name": "stderr",
     "output_type": "stream",
     "text": [
      "2024-05-27 15:58:50,549 - root - INFO - Chat with QA Agent.\n",
      "/opt/conda/envs/itrex/lib/python3.10/site-packages/torch/amp/autocast_mode.py:267: UserWarning: In CPU autocast, but the target dtype is not supported. Disabling autocast.\n",
      "CPU Autocast only supports dtype of torch.bfloat16, torch.float16 currently.\n",
      "  warnings.warn(error_message)\n"
     ]
    },
    {
     "name": "stdout",
     "output_type": "stream",
     "text": [
      "首先，尝试制定一个合理的时间表来规划你的学习和工作。合理安排时间可以帮助你更有效地完成任务，同时避免过度劳累。其次，你可以尝试一些放松身心的活动，如冥想、瑜伽或深呼吸练习。这些活动可以帮助你减轻压力，提高心理健康水平。此外，你还可以寻求他人的帮助，如与朋友分享你的烦恼，或者向老师请教如何应对学习压力。记住，保持积极的心态和良好的生活习惯对于缓解压力非常重要。\n"
     ]
    }
   ],
   "source": [
    "plugins.retrieval.enable=True # enable retrieval\n",
    "response = chatbot.predict(query=\"最近我的学业压力很大，作业做不完，有什么办法可以放松下来？\")\n",
    "print(response)"
   ]
  },
  {
   "cell_type": "code",
   "execution_count": 8,
   "id": "9f0dcfc2-ca53-4292-b285-a753b6f6a9d5",
   "metadata": {
    "execution": {
     "iopub.execute_input": "2024-05-27T08:02:32.403110Z",
     "iopub.status.busy": "2024-05-27T08:02:32.402772Z",
     "iopub.status.idle": "2024-05-27T08:04:55.078374Z",
     "shell.execute_reply": "2024-05-27T08:04:55.077828Z",
     "shell.execute_reply.started": "2024-05-27T08:02:32.403091Z"
    },
    "tags": []
   },
   "outputs": [
    {
     "name": "stdout",
     "output_type": "stream",
     "text": [
      "首先，我非常抱歉听到您正在经历这样的痛苦。请您知道，生活中总会有困难和挑战，但是请相信，您并不孤独。在这个时候，您需要的是支持和帮助，而不是一个人去承受。请考虑以下几点建议：\n",
      "1. 与亲朋好友分享您的感受：与您信任的人交流，告诉他们您此刻的感受。他们可能会提供您意想不到的支持和安慰。\n",
      "2. 寻求专业心理辅导：咨询师和心理医生可以为您提供专业的意见和治疗方案，帮助您度过这个困难时期。\n",
      "3. 加入支持团体：寻找与您有相似经历的人，加入相关的支持团体，与他们分享您的感受，并从他们的经验中学习如何应对困境。\n",
      "4. 关注自己的身体和健康：保持良好的作息规律，注意饮食均衡，进行适当的锻炼，这些都有助于改善心情。\n",
      "5. 重新审视生活目标和价值观：试着思考一下您的人生目标是什么，您觉得生活的意义在哪里，这有助于您找到新的方向。\n",
      "\n",
      "请记住，您并不孤独，有很多资源和支持可以帮助您度过这个困难时期。希望您能尽快走出阴霾，找到属于自己的幸福。\n"
     ]
    }
   ],
   "source": [
    "plugins.retrieval.enable=False\n",
    "response = chatbot.predict(query=\"我和我的女朋友分手了，觉得活的没意义，想自杀。\")\n",
    "print(response)"
   ]
  },
  {
   "cell_type": "code",
   "execution_count": 9,
   "id": "084c2bbc-5c3c-41cd-ba5b-e9ad17ccdbe5",
   "metadata": {
    "execution": {
     "iopub.execute_input": "2024-05-27T08:04:55.079472Z",
     "iopub.status.busy": "2024-05-27T08:04:55.079227Z",
     "iopub.status.idle": "2024-05-27T08:07:22.427673Z",
     "shell.execute_reply": "2024-05-27T08:07:22.427014Z",
     "shell.execute_reply.started": "2024-05-27T08:04:55.079455Z"
    },
    "tags": []
   },
   "outputs": [
    {
     "data": {
      "application/vnd.jupyter.widget-view+json": {
       "model_id": "b8adb48951994dbf8d1c6fc13af6dd4b",
       "version_major": 2,
       "version_minor": 0
      },
      "text/plain": [
       "Batches:   0%|          | 0/1 [00:00<?, ?it/s]"
      ]
     },
     "metadata": {},
     "output_type": "display_data"
    },
    {
     "name": "stderr",
     "output_type": "stream",
     "text": [
      "2024-05-27 16:05:22,386 - root - INFO - Chat with QA Agent.\n",
      "/opt/conda/envs/itrex/lib/python3.10/site-packages/torch/amp/autocast_mode.py:267: UserWarning: In CPU autocast, but the target dtype is not supported. Disabling autocast.\n",
      "CPU Autocast only supports dtype of torch.bfloat16, torch.float16 currently.\n",
      "  warnings.warn(error_message)\n"
     ]
    },
    {
     "name": "stdout",
     "output_type": "stream",
     "text": [
      "首先，我想要明确告诉你，自杀绝对不是解决问题的办法。请不要在任何情况下考虑采取这种行动。你正在经历一段困难的时期，但是有很多方法可以度过这段时光。请寻求专业心理咨询师的帮助，他们可以提供支持和建议，帮助你度过这个阶段。\n",
      "\n",
      "同时，我也想提醒你，生活中还有很多值得关注和珍惜的事物。你可以尝试找到一些能够让你感到快乐和有意义的活动，比如培养一个新的兴趣爱好、和朋友一起出去走走或者参加一些志愿活动等。这些都可以帮助你转移注意力，减轻你的负面情绪。\n",
      "\n",
      "最后，我希望你能记住，你并不孤单。有很多爱你的人和朋友在你身边，他们愿意帮助你度过这个困难时期。请不要犹豫，尽快寻求帮助。\n"
     ]
    }
   ],
   "source": [
    "plugins.retrieval.enable=True\n",
    "response = chatbot.predict(query=\"我和我的女朋友分手了，觉得活的没意义，想自杀。\")\n",
    "print(response)"
   ]
  },
  {
   "cell_type": "code",
   "execution_count": 10,
   "id": "27487d54-c54a-4f3d-bd4f-b8ba345549b2",
   "metadata": {
    "execution": {
     "iopub.execute_input": "2024-05-27T08:09:00.405555Z",
     "iopub.status.busy": "2024-05-27T08:09:00.405216Z",
     "iopub.status.idle": "2024-05-27T08:10:57.797893Z",
     "shell.execute_reply": "2024-05-27T08:10:57.797335Z",
     "shell.execute_reply.started": "2024-05-27T08:09:00.405535Z"
    },
    "tags": []
   },
   "outputs": [
    {
     "name": "stdout",
     "output_type": "stream",
     "text": [
      "首先，我建议您寻求专业帮助，如咨询心理医生或心理咨询师，以了解如何应对学业压力和改善饮食习惯。其次，您可以尝试以下方法来缓解压力和提高效率：\n",
      "1. 制定合理的学习计划和时间表，确保分配足够的时间来休息和娱乐活动；\n",
      "2. 分解任务，将大任务分解成小任务，逐一完成，避免感到压力过大；\n",
      "3. 保持健康的饮食和良好的作息习惯，充足的睡眠有助于提高注意力和学习效率；\n",
      "4. 进行适当的运动，如散步、瑜伽等，有助于减轻压力，提高大脑活力；\n",
      "5. 与家人和朋友分享您的感受，寻求支持和鼓励；\n",
      "6. 学会放松，尝试冥想、深呼吸等方法来缓解紧张情绪。\n",
      "\n",
      "请记住，每个人的情况都不同，所以这些建议可能不适用于所有人。最重要的是，要找到适合自己的方法来应对学业压力和提高效率。\n"
     ]
    }
   ],
   "source": [
    "plugins.retrieval.enable=False\n",
    "response = chatbot.predict(query=\"我的学业压力很大，导致我开始暴饮暴食，并且失眠，没有动力去做别的事情，看书学习也没有效率。\")\n",
    "print(response)"
   ]
  },
  {
   "cell_type": "code",
   "execution_count": 11,
   "id": "aa120419-b033-430d-856c-9dc48c7d589d",
   "metadata": {
    "execution": {
     "iopub.execute_input": "2024-05-27T08:10:57.799021Z",
     "iopub.status.busy": "2024-05-27T08:10:57.798788Z",
     "iopub.status.idle": "2024-05-27T08:12:54.069522Z",
     "shell.execute_reply": "2024-05-27T08:12:54.068817Z",
     "shell.execute_reply.started": "2024-05-27T08:10:57.799005Z"
    },
    "tags": []
   },
   "outputs": [
    {
     "data": {
      "application/vnd.jupyter.widget-view+json": {
       "model_id": "9c0829d1c7f0461da136d6fe52034834",
       "version_major": 2,
       "version_minor": 0
      },
      "text/plain": [
       "Batches:   0%|          | 0/1 [00:00<?, ?it/s]"
      ]
     },
     "metadata": {},
     "output_type": "display_data"
    },
    {
     "name": "stderr",
     "output_type": "stream",
     "text": [
      "2024-05-27 16:11:24,439 - root - INFO - Chat with QA Agent.\n",
      "/opt/conda/envs/itrex/lib/python3.10/site-packages/torch/amp/autocast_mode.py:267: UserWarning: In CPU autocast, but the target dtype is not supported. Disabling autocast.\n",
      "CPU Autocast only supports dtype of torch.bfloat16, torch.float16 currently.\n",
      "  warnings.warn(error_message)\n"
     ]
    },
    {
     "name": "stdout",
     "output_type": "stream",
     "text": [
      "首先，建议你尝试调整饮食，摄入更多健康的食物，避免过度进食。其次，考虑进行放松练习，如深呼吸、冥想或瑜伽，以减轻压力和焦虑。还可以尝试定期进行锻炼，以释放压力并提高睡眠质量。另外，保持规律的作息时间，保证每天至少睡6-8小时，也有助于改善睡眠状况。最后，可以尝试寻求心理咨询师的帮助，他们可以提供专业的意见和建议，帮助你应对学业压力和失眠问题。\n"
     ]
    }
   ],
   "source": [
    "plugins.retrieval.enable=True\n",
    "response = chatbot.predict(query=\"我的学业压力很大，导致我开始暴饮暴食，并且失眠，没有动力去做别的事情，看书学习也没有效率。\")\n",
    "print(response)"
   ]
  },
  {
   "cell_type": "code",
   "execution_count": 12,
   "id": "54af147f-e940-4376-aea8-fc2294629031",
   "metadata": {
    "execution": {
     "iopub.execute_input": "2024-05-27T08:22:13.859959Z",
     "iopub.status.busy": "2024-05-27T08:22:13.859504Z",
     "iopub.status.idle": "2024-05-27T08:24:49.854737Z",
     "shell.execute_reply": "2024-05-27T08:24:49.854184Z",
     "shell.execute_reply.started": "2024-05-27T08:22:13.859926Z"
    },
    "tags": []
   },
   "outputs": [
    {
     "name": "stdout",
     "output_type": "stream",
     "text": [
      "首先，我要说抱歉听到你所经历的痛苦。面对原生家庭的伤害，很多人都会感到无助和困惑。但是，请记住，你并不孤单，有很多资源和支持可以帮助你走出困境。\n",
      "\n",
      "首先，你可以尝试与家人沟通，表达你的感受和需求。尽管这可能是一个困难的过程，但只有当你向家人敞开心扉，他们才能更好地理解你并给予支持。同时，你也可以寻求专业心理咨询师的帮助，他们可以提供安全的空间，让你自由地表达自己的情感和经历。\n",
      "\n",
      "其次，加入支持团体或社区组织，与其他人分享你的经历和感受。这些团体通常由有类似经历的人组成，他们可以互相支持和鼓励，共同应对挑战。这不仅可以帮助你感受到 less alone（不再孤单），还可以帮助你建立新的社交网络和人际关系。\n",
      "\n",
      "最后，培养自己的兴趣和爱好，寻找一些能够带给你快乐和满足感的事情。这可能包括运动、阅读、绘画、音乐等等。当你投入到自己喜欢的事物中时，你的大脑会释放多巴胺等愉悦激素，这有助于减轻负面情绪和压力。\n",
      "\n",
      "总之，虽然面对原生家庭的伤害是一项艰巨的任务，但请相信你有能力和力量克服这些困难。不要害怕寻求帮助，因为这是走出困境的关键\n"
     ]
    }
   ],
   "source": [
    "plugins.retrieval.enable=False\n",
    "response = chatbot.predict(query=\"我的原生家庭给我的伤痛太大了，我好像没有办法走出去。\")\n",
    "print(response)"
   ]
  },
  {
   "cell_type": "code",
   "execution_count": 13,
   "id": "96f33146-a8a2-4446-bdff-a3aae442b69c",
   "metadata": {
    "execution": {
     "iopub.execute_input": "2024-05-27T08:24:49.855843Z",
     "iopub.status.busy": "2024-05-27T08:24:49.855610Z",
     "iopub.status.idle": "2024-05-27T08:26:34.050767Z",
     "shell.execute_reply": "2024-05-27T08:26:34.050202Z",
     "shell.execute_reply.started": "2024-05-27T08:24:49.855826Z"
    }
   },
   "outputs": [
    {
     "data": {
      "application/vnd.jupyter.widget-view+json": {
       "model_id": "c556c7302ec44dea8a24c3f045782d7c",
       "version_major": 2,
       "version_minor": 0
      },
      "text/plain": [
       "Batches:   0%|          | 0/1 [00:00<?, ?it/s]"
      ]
     },
     "metadata": {},
     "output_type": "display_data"
    },
    {
     "name": "stderr",
     "output_type": "stream",
     "text": [
      "2024-05-27 16:25:17,246 - root - INFO - Chat with QA Agent.\n",
      "/opt/conda/envs/itrex/lib/python3.10/site-packages/torch/amp/autocast_mode.py:267: UserWarning: In CPU autocast, but the target dtype is not supported. Disabling autocast.\n",
      "CPU Autocast only supports dtype of torch.bfloat16, torch.float16 currently.\n",
      "  warnings.warn(error_message)\n"
     ]
    },
    {
     "name": "stdout",
     "output_type": "stream",
     "text": [
      "您好，我理解您所经历的痛苦。有时候，我们可能觉得无法摆脱过去的伤害，但请记住，时间可以治愈许多事情。尝试与您的家人分享您的感受和经历，这可能会对您产生积极影响。另外，如果您感到压力过大，可以考虑寻求专业心理咨询师的帮助。他们可以帮助您处理这些情绪，并找到应对困境的方法。希望您能度过这段困难时期，祝福您！\n"
     ]
    }
   ],
   "source": [
    "plugins.retrieval.enable=True\n",
    "response = chatbot.predict(query=\"我的原生家庭给我的伤痛太大了，我好像没有办法走出去。\")\n",
    "print(response)"
   ]
  },
  {
   "cell_type": "code",
   "execution_count": 14,
   "id": "33c8df94-7824-4e13-bae4-4ea04f2ad2ba",
   "metadata": {
    "execution": {
     "iopub.execute_input": "2024-05-27T09:28:19.296809Z",
     "iopub.status.busy": "2024-05-27T09:28:19.296454Z",
     "iopub.status.idle": "2024-05-27T09:28:19.301205Z",
     "shell.execute_reply": "2024-05-27T09:28:19.300710Z",
     "shell.execute_reply.started": "2024-05-27T09:28:19.296788Z"
    },
    "tags": []
   },
   "outputs": [],
   "source": [
    "import time"
   ]
  },
  {
   "cell_type": "code",
   "execution_count": 15,
   "id": "40bfd9ab-a412-4581-bab9-50b98db5d9d4",
   "metadata": {
    "execution": {
     "iopub.execute_input": "2024-05-27T09:28:21.747253Z",
     "iopub.status.busy": "2024-05-27T09:28:21.746758Z",
     "iopub.status.idle": "2024-05-27T09:30:58.093097Z",
     "shell.execute_reply": "2024-05-27T09:30:58.092443Z",
     "shell.execute_reply.started": "2024-05-27T09:28:21.747219Z"
    },
    "tags": []
   },
   "outputs": [
    {
     "name": "stdout",
     "output_type": "stream",
     "text": [
      "首先，很抱歉听到你目前所面临的困境。面对这些压力和挫折，很难不感到痛苦和无助。请记住，你并不孤单，有很多资源和支持可以帮助你度过这个困难时期。\n",
      "\n",
      "1. 寻求专业帮助：考虑咨询心理医生或辅导员。他们可以提供安全的空间，让你倾诉自己的感受和经历，并探索应对策略。这可能包括认识情绪管理技巧、建立支持网络、改善睡眠和饮食习惯等。\n",
      "2. 与亲朋好友交流：与信任的人分享你的感受和经历，他们可能会给你提供不同的视角和建议。不要害怕寻求帮助，这是克服困难的一部分。\n",
      "3. 寻找新的机会：尽管当前的情况可能令人沮丧，但不要放弃寻找新的机会。参加培训课程、加入社交团体或志愿者组织等活动，可以帮助你扩大社交圈，获得新的经验和技能。\n",
      "4. 设定实际目标：将注意力集中在你可以控制的事情上，设定小目标，逐步实现它们。这将帮助你建立自信，并逐渐走出低谷。\n",
      "5. 自我关怀：照顾好自己的身体和心理健康。保持规律的作息时间，健康的饮食和适度的运动有助于缓解压力和提高心情。\n",
      "\n",
      "最后，请记住，恢复需要时间。给自己一些时间和空间，慢慢\n",
      "运行时间：156.34143590927124秒\n"
     ]
    }
   ],
   "source": [
    "plugins.retrieval.enable=False\n",
    "time_start_1 = time.time()\n",
    "response = chatbot.predict(query=\"我应届毕业，但是公司毁约了，女朋友也分手了，家里经济状况也出了一些问题，现在压力很大非常痛苦，不想活了。\")\n",
    "time_end_1 = time.time()\n",
    "print(response)\n",
    "print(\"运行时间：\"+str(time_end_1 - time_start_1)+\"秒\")"
   ]
  },
  {
   "cell_type": "code",
   "execution_count": 19,
   "id": "a6d6a32b-7b19-4065-b4f5-83363d0dcb32",
   "metadata": {
    "ExecutionIndicator": {
     "show": true
    },
    "execution": {
     "iopub.execute_input": "2024-05-27T09:33:57.291621Z",
     "iopub.status.busy": "2024-05-27T09:33:57.291261Z",
     "iopub.status.idle": "2024-05-27T09:36:11.906707Z",
     "shell.execute_reply": "2024-05-27T09:36:11.906180Z",
     "shell.execute_reply.started": "2024-05-27T09:33:57.291602Z"
    },
    "tags": []
   },
   "outputs": [
    {
     "data": {
      "application/vnd.jupyter.widget-view+json": {
       "model_id": "5345e9ece6384c38a54c9ae8f67eb089",
       "version_major": 2,
       "version_minor": 0
      },
      "text/plain": [
       "Batches:   0%|          | 0/1 [00:00<?, ?it/s]"
      ]
     },
     "metadata": {},
     "output_type": "display_data"
    },
    {
     "name": "stderr",
     "output_type": "stream",
     "text": [
      "2024-05-27 17:34:38,801 - root - INFO - Chat with QA Agent.\n",
      "/opt/conda/envs/itrex/lib/python3.10/site-packages/torch/amp/autocast_mode.py:267: UserWarning: In CPU autocast, but the target dtype is not supported. Disabling autocast.\n",
      "CPU Autocast only supports dtype of torch.bfloat16, torch.float16 currently.\n",
      "  warnings.warn(error_message)\n"
     ]
    },
    {
     "name": "stdout",
     "output_type": "stream",
     "text": [
      "亲爱的用户，我理解你现在的处境和心情。面对这些困难，首先要做的是接受它们，不要逃避或否认问题的存在。这些问题虽然让你感到痛苦，但也是生活的一部分，我们需要学会正面应对。你可以尝试找一些亲朋好友倾诉，或者寻求专业心理咨询师的帮助，他们可以提供有效的解决方案和应对策略。同时，也要注意自己的身心健康，保持良好的生活习惯和饮食，多参加户外运动，放松身心。记住，你并不孤单，总会有人愿意帮助你，你只需要勇敢地走出困境，迎接新的生活。\n",
      "运行时间：134.61160826683044秒\n"
     ]
    }
   ],
   "source": [
    "plugins.retrieval.enable=True\n",
    "time_start_2 = time.time()\n",
    "response = chatbot.predict(query=\"我应届毕业，但是公司毁约了，女朋友也分手了，家里经济状况也出了一些问题，现在压力很大非常痛苦，不想活了。\")\n",
    "time_end_2 = time.time()\n",
    "print(response)\n",
    "print(\"运行时间：\"+str(time_end_2 - time_start_2)+\"秒\")"
   ]
  }
 ],
 "metadata": {
  "kernelspec": {
   "display_name": "Python 3 (ipykernel)",
   "language": "python",
   "name": "python3"
  },
  "language_info": {
   "codemirror_mode": {
    "name": "ipython",
    "version": 3
   },
   "file_extension": ".py",
   "mimetype": "text/x-python",
   "name": "python",
   "nbconvert_exporter": "python",
   "pygments_lexer": "ipython3",
   "version": "3.10.13"
  }
 },
 "nbformat": 4,
 "nbformat_minor": 5
}
